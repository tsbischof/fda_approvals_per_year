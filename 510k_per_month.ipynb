{
 "cells": [
  {
   "cell_type": "code",
   "execution_count": 1,
   "id": "7f098247",
   "metadata": {},
   "outputs": [],
   "source": [
    "import os\n",
    "import pathlib\n",
    "import urllib.parse\n",
    "import urllib.request\n",
    "import zipfile\n",
    "\n",
    "import pandas"
   ]
  },
  {
   "cell_type": "code",
   "execution_count": 2,
   "id": "d3c6faef",
   "metadata": {
    "scrolled": true
   },
   "outputs": [],
   "source": [
    "for url in open(\"files\", \"r\"):\n",
    "    filename = pathlib.Path(urllib.parse.urlsplit(url).path).name\n",
    "    if not os.path.exists(filename):\n",
    "        urllib.request.urlretrieve(url, filename=filename)\n",
    "        \n",
    "    with zipfile.ZipFile(filename) as db:\n",
    "        db.extractall(os.getcwd())"
   ]
  },
  {
   "cell_type": "code",
   "execution_count": 3,
   "id": "7f1f7a08",
   "metadata": {},
   "outputs": [],
   "source": [
    "db_510k = pandas.read_csv(\"pmn96cur.txt\", delimiter=\"|\", encoding=\"windows-1252\", parse_dates=[\"DECISIONDATE\"])"
   ]
  },
  {
   "cell_type": "code",
   "execution_count": 4,
   "id": "d5f96b91",
   "metadata": {},
   "outputs": [
    {
     "data": {
      "text/plain": [
       "1996    4407\n",
       "1997    4309\n",
       "1998    3775\n",
       "1999    3554\n",
       "2000    3453\n",
       "2001    3494\n",
       "2002    3685\n",
       "2003    3516\n",
       "2004    3373\n",
       "2005    3156\n",
       "2006    3217\n",
       "2007    2987\n",
       "2008    3053\n",
       "2009    3008\n",
       "2010    2807\n",
       "2011    3126\n",
       "2012    3137\n",
       "2013    3054\n",
       "2014    3204\n",
       "2015    3024\n",
       "2016    2957\n",
       "2017    3205\n",
       "2018    3065\n",
       "2019    2918\n",
       "2020    2927\n",
       "2021    3028\n",
       "2022    3217\n",
       "2023    1013\n",
       "Name: DECISIONDATE, dtype: int64"
      ]
     },
     "execution_count": 4,
     "metadata": {},
     "output_type": "execute_result"
    }
   ],
   "source": [
    "db_510k[\"DECISIONDATE\"].dt.year.value_counts().sort_index()"
   ]
  },
  {
   "cell_type": "code",
   "execution_count": 5,
   "id": "4b084533",
   "metadata": {},
   "outputs": [],
   "source": [
    "pma = pandas.read_csv(\"pma.txt\", delimiter=\"|\", encoding=\"windows-1252\", parse_dates=[\"DECISIONDATE\"])"
   ]
  },
  {
   "cell_type": "code",
   "execution_count": 6,
   "id": "74ed9615",
   "metadata": {},
   "outputs": [],
   "source": [
    "first = pma.groupby(\"PMANUMBER\").head(1)"
   ]
  },
  {
   "cell_type": "code",
   "execution_count": 7,
   "id": "919948cd",
   "metadata": {},
   "outputs": [
    {
     "data": {
      "text/plain": [
       "1960     1\n",
       "1968     1\n",
       "1969     5\n",
       "1970     4\n",
       "1971     4\n",
       "1972     2\n",
       "1973     1\n",
       "1975     1\n",
       "1976     7\n",
       "1977     3\n",
       "1978     3\n",
       "1979    18\n",
       "1980    15\n",
       "1981    20\n",
       "1982    29\n",
       "1983    30\n",
       "1984    32\n",
       "1985    28\n",
       "1986    59\n",
       "1987    37\n",
       "1988    58\n",
       "1989    58\n",
       "1990    45\n",
       "1991    48\n",
       "1992    10\n",
       "1993    36\n",
       "1994    51\n",
       "1995    39\n",
       "1996    47\n",
       "1997    62\n",
       "1998    44\n",
       "1999    38\n",
       "2000    49\n",
       "2001    56\n",
       "2002    33\n",
       "2003    33\n",
       "2004    47\n",
       "2005    32\n",
       "2006    39\n",
       "2007    25\n",
       "2008    25\n",
       "2009    15\n",
       "2010    20\n",
       "2011    37\n",
       "2012    39\n",
       "2013    21\n",
       "2014    25\n",
       "2015    43\n",
       "2016    39\n",
       "2017    46\n",
       "2018    31\n",
       "2019    32\n",
       "2020    34\n",
       "2021    31\n",
       "2022    22\n",
       "2023     9\n",
       "Name: DECISIONDATE, dtype: int64"
      ]
     },
     "execution_count": 7,
     "metadata": {},
     "output_type": "execute_result"
    }
   ],
   "source": [
    "first[\"DECISIONDATE\"].dt.year.value_counts().sort_index()"
   ]
  },
  {
   "cell_type": "code",
   "execution_count": 8,
   "id": "cc5448ca",
   "metadata": {},
   "outputs": [
    {
     "data": {
      "text/plain": [
       "1960       1\n",
       "1968       1\n",
       "1969       5\n",
       "1970       4\n",
       "1971       4\n",
       "1972       2\n",
       "1973       4\n",
       "1975       2\n",
       "1976       8\n",
       "1977       4\n",
       "1978       4\n",
       "1979      75\n",
       "1980     130\n",
       "1981     248\n",
       "1982     274\n",
       "1983     259\n",
       "1984     260\n",
       "1985     464\n",
       "1986     536\n",
       "1987     546\n",
       "1988     640\n",
       "1989     625\n",
       "1990     655\n",
       "1991     481\n",
       "1992     343\n",
       "1993     366\n",
       "1994     432\n",
       "1995     496\n",
       "1996     484\n",
       "1997     439\n",
       "1998     505\n",
       "1999     547\n",
       "2000     570\n",
       "2001     656\n",
       "2002     655\n",
       "2003     640\n",
       "2004     624\n",
       "2005     743\n",
       "2006    1074\n",
       "2007    1116\n",
       "2008    1491\n",
       "2009    1492\n",
       "2010    1845\n",
       "2011    2224\n",
       "2012    2411\n",
       "2013    2342\n",
       "2014    2483\n",
       "2015    2169\n",
       "2016    2564\n",
       "2017    2718\n",
       "2018    2790\n",
       "2019    2638\n",
       "2020    2503\n",
       "2021    2203\n",
       "2022    2092\n",
       "2023     577\n",
       "Name: DECISIONDATE, dtype: int64"
      ]
     },
     "execution_count": 8,
     "metadata": {},
     "output_type": "execute_result"
    }
   ],
   "source": [
    "pma[\"DECISIONDATE\"].dt.year.value_counts().sort_index()"
   ]
  },
  {
   "cell_type": "code",
   "execution_count": null,
   "id": "39616ca5",
   "metadata": {},
   "outputs": [],
   "source": []
  }
 ],
 "metadata": {
  "kernelspec": {
   "display_name": "Python 3 (ipykernel)",
   "language": "python",
   "name": "python3"
  },
  "language_info": {
   "codemirror_mode": {
    "name": "ipython",
    "version": 3
   },
   "file_extension": ".py",
   "mimetype": "text/x-python",
   "name": "python",
   "nbconvert_exporter": "python",
   "pygments_lexer": "ipython3",
   "version": "3.10.6"
  }
 },
 "nbformat": 4,
 "nbformat_minor": 5
}
